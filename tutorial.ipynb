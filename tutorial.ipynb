{
 "cells": [
  {
   "cell_type": "code",
   "execution_count": 1,
   "metadata": {},
   "outputs": [],
   "source": [
    "import fdob\n",
    "import fdob.processing as processing\n",
    "import fdob.model as model\n",
    "import exp_info as info\n",
    "import benchmark\n",
    "\n",
    "import torch\n",
    "from torchvision import transforms"
   ]
  },
  {
   "cell_type": "code",
   "execution_count": 2,
   "metadata": {},
   "outputs": [],
   "source": [
    "df = fdob.download_cwru(\"./data/cwru\")\n",
    "\n",
    "# We exclude label named 999 and 0 HP motor load condition.\n",
    "df = df[(df[\"label\"] != 999) & (df[\"load\"] != 0)]\n",
    "\n",
    "train_df, val_df, test_df = fdob.split_dataframe(df, 0.6, 0.2)\n",
    "\n",
    "X_train, y_train = fdob.build_from_dataframe(train_df, 4096, 2048, False)\n",
    "X_val, y_val = fdob.build_from_dataframe(val_df, 4096, 2048, False)\n",
    "X_test, y_test = fdob.build_from_dataframe(test_df, 4096, 2048, False)"
   ]
  },
  {
   "cell_type": "code",
   "execution_count": 5,
   "metadata": {},
   "outputs": [],
   "source": [
    "model_name = \"wdcnn\"\n",
    "\n",
    "model = info.model[model_name][\"model\"]\n",
    "sample_length = info.model[model_name][\"sample_length\"]\n",
    "tf_data = info.model[model_name][\"tf\"]\n",
    "tf_label = [processing.NpToTensor()]\n",
    "batch_size = 32\n",
    "num_workers = 1\n",
    "\n",
    "dmodule = fdob.DatasetHandler()\n",
    "\n",
    "dmodule.assign(\n",
    "    X_train,\n",
    "    y_train,\n",
    "    X_val,\n",
    "    y_val,\n",
    "    X_test,\n",
    "    y_test,\n",
    "    sample_length,\n",
    "    \"cwru\",\n",
    "    transforms.Compose(tf_data),\n",
    "    transforms.Compose(tf_label),\n",
    "    batch_size,\n",
    "    num_workers\n",
    ")\n",
    "\n",
    "dmodule.assign(\n",
    "    X_train,\n",
    "    y_train,\n",
    "    X_val,\n",
    "    y_val,\n",
    "    X_test,\n",
    "    y_test,\n",
    "    sample_length,\n",
    "    \"cwru0\",\n",
    "    transforms.Compose(tf_data),\n",
    "    transforms.Compose(tf_label),\n",
    "    batch_size,\n",
    "    num_workers\n",
    ")"
   ]
  },
  {
   "cell_type": "code",
   "execution_count": 6,
   "metadata": {},
   "outputs": [
    {
     "data": {
      "text/plain": [
       "{'lr': array([0.0001    , 0.00316228, 0.00056234, 0.01778279]),\n",
       " 'beta1': array([0.999     , 0.99      , 0.9       , 0.99784557]),\n",
       " 'beta2': array([0.9999    , 0.99960189, 0.99841511, 0.99369043]),\n",
       " 'eps': array([1.00000000e-10, 2.68269580e-09, 7.19685673e-08, 1.93069773e-06])}"
      ]
     },
     "execution_count": 6,
     "metadata": {},
     "output_type": "execute_result"
    }
   ],
   "source": [
    "n_exps = 4\n",
    "\n",
    "hparam_info = info.hparam[\"adam\"]\n",
    "\n",
    "hparams = fdob.log_qsample(\n",
    "    hparam_info[\"n_params\"],\n",
    "    hparam_info[\"param_names\"],\n",
    "    hparam_info[\"lb\"],\n",
    "    hparam_info[\"ub\"],\n",
    "    hparam_info[\"reversed\"],\n",
    "    n_exps\n",
    ")\n",
    "\n",
    "hparams"
   ]
  },
  {
   "cell_type": "code",
   "execution_count": 8,
   "metadata": {},
   "outputs": [
    {
     "name": "stderr",
     "output_type": "stream",
     "text": [
      "/home/seongjae/anaconda3/envs/cfb/lib/python3.10/site-packages/pytorch_lightning/trainer/connectors/accelerator_connector.py:447: LightningDeprecationWarning: Setting `Trainer(gpus=[1])` is deprecated in v1.7 and will be removed in v2.0. Please use `Trainer(accelerator='gpu', devices=[1])` instead.\n",
      "  rank_zero_deprecation(\n",
      "GPU available: True (cuda), used: True\n",
      "TPU available: False, using: 0 TPU cores\n",
      "IPU available: False, using: 0 IPUs\n",
      "HPU available: False, using: 0 HPUs\n",
      "LOCAL_RANK: 0 - CUDA_VISIBLE_DEVICES: [0,1]\n",
      "\n",
      "  | Name    | Type             | Params\n",
      "---------------------------------------------\n",
      "0 | model   | WDCNN            | 54.5 K\n",
      "1 | loss_fn | CrossEntropyLoss | 0     \n",
      "---------------------------------------------\n",
      "54.5 K    Trainable params\n",
      "0         Non-trainable params\n",
      "54.5 K    Total params\n",
      "0.218     Total estimated model params size (MB)\n"
     ]
    },
    {
     "data": {
      "application/vnd.jupyter.widget-view+json": {
       "model_id": "0ca70bced5004ef399a94434dbb6a568",
       "version_major": 2,
       "version_minor": 0
      },
      "text/plain": [
       "Sanity Checking: 0it [00:00, ?it/s]"
      ]
     },
     "metadata": {},
     "output_type": "display_data"
    },
    {
     "name": "stderr",
     "output_type": "stream",
     "text": [
      "/home/seongjae/anaconda3/envs/cfb/lib/python3.10/site-packages/pytorch_lightning/trainer/connectors/data_connector.py:236: PossibleUserWarning: The dataloader, val_dataloader 0, does not have many workers which may be a bottleneck. Consider increasing the value of the `num_workers` argument` (try 20 which is the number of cpus on this machine) in the `DataLoader` init to improve performance.\n",
      "  rank_zero_warn(\n",
      "/home/seongjae/anaconda3/envs/cfb/lib/python3.10/site-packages/pytorch_lightning/trainer/connectors/data_connector.py:236: PossibleUserWarning: The dataloader, train_dataloader, does not have many workers which may be a bottleneck. Consider increasing the value of the `num_workers` argument` (try 20 which is the number of cpus on this machine) in the `DataLoader` init to improve performance.\n",
      "  rank_zero_warn(\n",
      "/home/seongjae/anaconda3/envs/cfb/lib/python3.10/site-packages/pytorch_lightning/trainer/trainer.py:1892: PossibleUserWarning: The number of training batches (42) is smaller than the logging interval Trainer(log_every_n_steps=50). Set a lower value for log_every_n_steps if you want to see logs for the training epoch.\n",
      "  rank_zero_warn(\n"
     ]
    },
    {
     "data": {
      "application/vnd.jupyter.widget-view+json": {
       "model_id": "d84fcbba1ae44dbc9254c8b22e18be28",
       "version_major": 2,
       "version_minor": 0
      },
      "text/plain": [
       "Training: 0it [00:00, ?it/s]"
      ]
     },
     "metadata": {},
     "output_type": "display_data"
    },
    {
     "data": {
      "application/vnd.jupyter.widget-view+json": {
       "model_id": "dc9095a7cb204cba81809b2b9393f2dd",
       "version_major": 2,
       "version_minor": 0
      },
      "text/plain": [
       "Validation: 0it [00:00, ?it/s]"
      ]
     },
     "metadata": {},
     "output_type": "display_data"
    },
    {
     "data": {
      "application/vnd.jupyter.widget-view+json": {
       "model_id": "9abbd1c825d4424a90272564df29d90e",
       "version_major": 2,
       "version_minor": 0
      },
      "text/plain": [
       "Validation: 0it [00:00, ?it/s]"
      ]
     },
     "metadata": {},
     "output_type": "display_data"
    },
    {
     "data": {
      "application/vnd.jupyter.widget-view+json": {
       "model_id": "db774a3532c0420eaf1ead82732faf98",
       "version_major": 2,
       "version_minor": 0
      },
      "text/plain": [
       "Validation: 0it [00:00, ?it/s]"
      ]
     },
     "metadata": {},
     "output_type": "display_data"
    },
    {
     "data": {
      "application/vnd.jupyter.widget-view+json": {
       "model_id": "881779d7dea5454d86e49a62b8730957",
       "version_major": 2,
       "version_minor": 0
      },
      "text/plain": [
       "Validation: 0it [00:00, ?it/s]"
      ]
     },
     "metadata": {},
     "output_type": "display_data"
    },
    {
     "data": {
      "application/vnd.jupyter.widget-view+json": {
       "model_id": "2d92b63c92cd403db41639569f93adb3",
       "version_major": 2,
       "version_minor": 0
      },
      "text/plain": [
       "Validation: 0it [00:00, ?it/s]"
      ]
     },
     "metadata": {},
     "output_type": "display_data"
    },
    {
     "name": "stderr",
     "output_type": "stream",
     "text": [
      "`Trainer.fit` stopped: `max_epochs=5` reached.\n",
      "LOCAL_RANK: 0 - CUDA_VISIBLE_DEVICES: [0,1]\n",
      "/home/seongjae/anaconda3/envs/cfb/lib/python3.10/site-packages/pytorch_lightning/trainer/connectors/data_connector.py:236: PossibleUserWarning: The dataloader, test_dataloader 0, does not have many workers which may be a bottleneck. Consider increasing the value of the `num_workers` argument` (try 20 which is the number of cpus on this machine) in the `DataLoader` init to improve performance.\n",
      "  rank_zero_warn(\n"
     ]
    },
    {
     "data": {
      "application/vnd.jupyter.widget-view+json": {
       "model_id": "d7310229a8ce404d983ae4272a30d4f3",
       "version_major": 2,
       "version_minor": 0
      },
      "text/plain": [
       "Testing: 0it [00:00, ?it/s]"
      ]
     },
     "metadata": {},
     "output_type": "display_data"
    },
    {
     "name": "stdout",
     "output_type": "stream",
     "text": [
      "────────────────────────────────────────────────────────────────────────────────────────────────────────────────────────\n",
      "       Test metric             DataLoader 0\n",
      "────────────────────────────────────────────────────────────────────────────────────────────────────────────────────────\n",
      "        test_acc            0.7555012106895447\n",
      "        test_loss           1.0390267372131348\n",
      "────────────────────────────────────────────────────────────────────────────────────────────────────────────────────────\n"
     ]
    },
    {
     "data": {
      "text/plain": [
       "[{'test_loss': 1.0390267372131348, 'test_acc': 0.7555012106895447}]"
      ]
     },
     "execution_count": 8,
     "metadata": {},
     "output_type": "execute_result"
    }
   ],
   "source": [
    "model_kwargs = {\n",
    "    \"n_classes\": 10\n",
    "}\n",
    "\n",
    "opt = hparam_info[\"optimizer\"]\n",
    "opt_kwargs = {\n",
    "    \"lr\": hparams[\"lr\"][0],\n",
    "    \"betas\": (hparams[\"beta1\"][0], hparams[\"beta2\"][0]),\n",
    "    \"eps\": hparams[\"eps\"][0]\n",
    "}\n",
    "\n",
    "loss = torch.nn.CrossEntropyLoss\n",
    "loss_kwargs = None\n",
    "\n",
    "seed =6464\n",
    "n_gpu = 1\n",
    "n_epochs = 5\n",
    "\n",
    "result_dir = \"./logs/test\"\n",
    "\n",
    "benchmark.train(\n",
    "    dmodule.dataloaders[\"cwru\"][\"train\"],\n",
    "    dmodule.dataloaders[\"cwru\"][\"val\"],\n",
    "    model,\n",
    "    model_kwargs,\n",
    "    opt,\n",
    "    opt_kwargs,\n",
    "    loss,\n",
    "    loss_kwargs,\n",
    "    n_epochs,\n",
    "    seed,\n",
    "    n_gpu,\n",
    "    result_dir\n",
    ")"
   ]
  }
 ],
 "metadata": {
  "kernelspec": {
   "display_name": "cfb",
   "language": "python",
   "name": "python3"
  },
  "language_info": {
   "codemirror_mode": {
    "name": "ipython",
    "version": 3
   },
   "file_extension": ".py",
   "mimetype": "text/x-python",
   "name": "python",
   "nbconvert_exporter": "python",
   "pygments_lexer": "ipython3",
   "version": "3.10.6"
  },
  "orig_nbformat": 4
 },
 "nbformat": 4,
 "nbformat_minor": 2
}
